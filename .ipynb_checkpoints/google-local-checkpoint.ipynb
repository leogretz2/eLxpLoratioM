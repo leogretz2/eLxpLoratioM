{
 "cells": [
  {
   "cell_type": "code",
   "execution_count": 33,
   "metadata": {},
   "outputs": [
    {
     "name": "stdout",
     "output_type": "stream",
     "text": [
      "Here are my thoughts on Kdan Mobile, based on the data you provided:\n",
      "\n",
      "**Strengths:**\n",
      "\n",
      "* **Strong product portfolio:** Kdan Mobile offers a diverse range of mobile productivity and creative apps, catering to a wide range of users. Their flagship products, Animation Desk, Write-on Video, and NoteLedge, have garnered positive reviews and accolades.\n",
      "* **Focus on mobile-first experience:** Kdan Mobile's products are designed specifically for mobile devices, offering a seamless and intuitive user experience. This is a key advantage in today's increasingly mobile-centric world.\n",
      "* **International reach:** Kdan Mobile has a global presence, with offices in Taiwan, United States, Japan, and China. This allows them to tap into a wider market and cater to diverse user needs.\n",
      "* **Solid revenue growth:** Kdan Mobile has experienced consistent revenue growth in recent years, indicating strong market demand for their products.\n",
      "\n",
      "**Areas for improvement:**\n",
      "\n",
      "* **Limited brand awareness:** While Kdan Mobile's products are well-regarded within specific niches, their overall brand awareness is relatively low compared to larger competitors. Investing in marketing and brand building could help them reach a wider audience.\n",
      "* **Dependence on app store platforms:** Kdan Mobile's revenue is heavily reliant on app store platforms like Apple App Store and Google Play Store. This dependence could expose them to changes in platform policies or fees.\n",
      "* **Competition:** The mobile productivity and creative app market is highly competitive, with numerous players vying for market share. Kdan Mobile needs to continuously innovate and differentiate their offerings to maintain a competitive edge.\n",
      "\n",
      "**Overall, Kdan Mobile appears to be a promising company with a strong product portfolio and international reach. However, they need to address their limited brand awareness and dependence on app store platforms to achieve further growth.**\n",
      "\n",
      "**Additional observations:**\n",
      "\n",
      "* Kdan Mobile's website is well-designed and informative, providing clear information about their products and company.\n",
      "* The company's social media presence is active and engaging, showcasing user-generated content and product updates.\n",
      "* Kdan Mobile seems to be committed to data security and privacy, as evidenced by their dedicated security page and adherence to GDPR compliance.\n",
      "\n",
      "**Disclaimer:** The information provided is based on publicly available data and my analysis. It is not intended to be a substitute for professional financial advice. \n"
     ]
    }
   ],
   "source": [
    "import os\n",
    "from google.oauth2 import service_account\n",
    "import vertexai\n",
    "from vertexai.generative_models import GenerativeModel, Part, FinishReason\n",
    "import vertexai.preview.generative_models as generative_models\n",
    "\n",
    "# It's also in C:\\Users\\leogr\\OneDrive\\Documents\\External_Academic_Adventures_New\\LLM\n",
    "key_path = 'gemini-test-project-419916-2d6638af55cf.json'\n",
    "\n",
    "os.environ['GOOGLE_APPLICATION_CREDENTIALS'] = key_path\n",
    "\n",
    "# Explicitly create credentials from the service account file\n",
    "credentials = service_account.Credentials.from_service_account_file(key_path)\n",
    "\n",
    "# Initialize Vertex AI with explicit credentials\n",
    "vertexai.init(project=\"gemini-test-project-419916\", location=\"us-central1\", credentials=credentials)\n",
    "\n",
    "model = GenerativeModel(\"gemini-1.0-pro-002\")\n",
    "\n",
    "generation_config = {\n",
    "    \"max_output_tokens\": 2048,\n",
    "    \"temperature\": 1,\n",
    "    \"top_p\": 1,\n",
    "}\n",
    "\n",
    "safety_settings = {\n",
    "    generative_models.HarmCategory.HARM_CATEGORY_HATE_SPEECH: generative_models.HarmBlockThreshold.BLOCK_MEDIUM_AND_ABOVE,\n",
    "    generative_models.HarmCategory.HARM_CATEGORY_DANGEROUS_CONTENT: generative_models.HarmBlockThreshold.BLOCK_MEDIUM_AND_ABOVE,\n",
    "    generative_models.HarmCategory.HARM_CATEGORY_SEXUALLY_EXPLICIT: generative_models.HarmBlockThreshold.BLOCK_MEDIUM_AND_ABOVE,\n",
    "    generative_models.HarmCategory.HARM_CATEGORY_HARASSMENT: generative_models.HarmBlockThreshold.BLOCK_MEDIUM_AND_ABOVE,\n",
    "}\n",
    "\n",
    "responses = model.generate_content(\n",
    "      [\"\"\"\n",
    "        You are an epic mid-size company investor. Based on the data scraped from a company's website (the URL, a list of links, a list of headers, a home page object, a first page object), give me your thoughts:\n",
    "        https://www.kdanmobile.com\n",
    "        [[('Animation DeskCreate animations & storyboards', 'https://www.kdanmobile.com/animation-desk'), ('Write-on VideoPlan & edit video projects', 'https://www.kdanmobile.com/writeon-video'), ('NoteLedgeOrganize ideas & make moodboards', 'https://www.kdanmobile.com/noteledge'), ('Pocket ScannerScan and digitize documents', 'https://www.kdanmobile.com/pocket-scanner'), ('View All Products', 'https://www.kdanmobile.com/products'), ('E-Sign & Digital TransformationE-Sign & PDF document solutions', 'https://www.kdanmobile.com/esign-digital-transformation'), ('Document AIIntelligent information processing for business', 'https://www.kdanmobile.com/document-ai-solution'), ('Bring Brilliant Ideas to LifeCreative suite for designers & content creators', 'https://www.kdanmobile.com/creative-solution'), ('DottedSign APIIntegrate E-Sign into your services', 'https://www.kdanmobile.com/esignature-api'), ('PDF SDKDevelop with #1 mobile PDF SDK', 'https://www.kdanmobile.com/pdf-sdk'), ('PDF Converter SDKPDF conversion SDK built for developers', 'https://www.kdanmobile.com/pdf-converter-sdk'), ('About Us', 'https://www.kdanmobile.com/aboutus'), ('Leadership', 'https://www.kdanmobile.com/leadership'), ('Blog', 'https://www.kdanmobile.com/blog'), ('Career', 'https://www.kdanmobile.com/career'), ('Press Center', 'https://www.kdanmobile.com/press'), ('GDPR', 'https://www.kdanmobile.com/trust/gdpr'), ('Contact Us', 'https://www.kdanmobile.com/contact'), ('Try for Free', 'https://www.kdanmobile.com/products'), ('About Us', 'https://www.kdanmobile.com/aboutus'), ('Leadership', 'https://www.kdanmobile.com/leadership'), ('Career', 'https://www.kdanmobile.com/career'), ('Contact Us', 'https://www.kdanmobile.com/contact'), ('Press Center', 'https://www.kdanmobile.com/press'), ('GDPR', 'https://www.kdanmobile.com/trust/gdpr'), ('Animation Desk', 'https://www.kdanmobile.com/animation-desk'), ('NoteLedge', 'https://www.kdanmobile.com/noteledge'), ('Write-on Video', 'https://www.kdanmobile.com/write-on-video'), ('Pocket Scanner', 'https://www.kdanmobile.com/pocket-scanner'), ('PDF SDK', 'https://www.kdanmobile.com/pdf-sdk'), ('PDF Converter SDK', 'https://www.kdanmobile.com/pdf-converter-sdk'), ('PDF Templates', 'https://www.kdanmobile.com/pdf-templates'), ('DottedSign API', 'https://www.kdanmobile.com/esignature-api'), ('E-Sign & Digital Transformation', 'https://www.kdanmobile.com/esign-digital-transformation'), ('Document AI', 'https://www.kdanmobile.com/document-ai-solution'), ('Bring Brilliant Ideas to Life', 'https://www.kdanmobile.com/creative-solution'), ('Kdan Blog', 'https://www.kdanmobile.com/blog'), ('All Products & Services', 'https://www.kdanmobile.com/products'), ('Terms of Service', 'https://www.kdanmobile.com/terms_of_service'), ('Privacy Policy', 'https://www.kdanmobile.com/privacy_policy'), ('Security', 'https://www.kdanmobile.com/security')], 'https://www.kdanmobile.com/animation-desk']\n",
    "        ['Build a mobile workplace for a better future', 'Animation Desk, the Best 2D Animation Software', 'Discover the Essences of Traditional Animation on Your Phone and Tablet', 'Every Dream Starts with a Dreamer', 'Awards and Recognition', 'Game on!', 'Gallery', 'Connect with Us on Social Media']\n",
    "        {'first_relevant': [' The Best Creative & Productivity Apps & Services', 'Build a mobile workplace for a better future'], 'two_longest': [\"Document 365 provides individuals and businesses>\n",
    "        {'first_relevant': ['How to Control Speed and Motions with Frames', 'How to Create Animation Faster with the Selection Tools'], 'two_longest': ['Export animation into video, GIF, PDF, PSD or image sequences. Moreover, you can export and import editable animation projects across Animation Desk Android, iOS, and Windows.', \"Capture your animation ideas on the go with Animation Desk. The app supports different export formats. It's a powerful tool for creating rough animation, animatic sketches, and storyboards for professional animation projects.\"], 'headers': ['Animation Desk, the Best 2D Animation Software', 'Discover the Essences of Traditional Animation on Your Phone and Tablet', 'Every Dream Starts with a Dreamer', 'Awards and Recognition', 'Game on!', 'Gallery', 'Connect with Us on Social Media']}\n",
    "       \"\"\"],\n",
    "      generation_config=generation_config,\n",
    "      # safety_settings=safety_settings,\n",
    "      stream=True,\n",
    "  )\n",
    "\n",
    "for response in responses:\n",
    "  print(response.text, end=\"\")\n"
   ]
  },
  {
   "cell_type": "code",
   "execution_count": 28,
   "metadata": {},
   "outputs": [
    {
     "ename": "AttributeError",
     "evalue": "'generator' object has no attribute 'candidates'",
     "output_type": "error",
     "traceback": [
      "\u001b[1;31m---------------------------------------------------------------------------\u001b[0m",
      "\u001b[1;31mAttributeError\u001b[0m                            Traceback (most recent call last)",
      "Cell \u001b[1;32mIn[28], line 1\u001b[0m\n\u001b[1;32m----> 1\u001b[0m \u001b[43mresponses\u001b[49m\u001b[38;5;241;43m.\u001b[39;49m\u001b[43mcandidates\u001b[49m\n",
      "\u001b[1;31mAttributeError\u001b[0m: 'generator' object has no attribute 'candidates'"
     ]
    }
   ],
   "source": [
    "responses.candidates"
   ]
  }
 ],
 "metadata": {
  "kernelspec": {
   "display_name": "Python 3",
   "language": "python",
   "name": "python3"
  },
  "language_info": {
   "codemirror_mode": {
    "name": "ipython",
    "version": 3
   },
   "file_extension": ".py",
   "mimetype": "text/x-python",
   "name": "python",
   "nbconvert_exporter": "python",
   "pygments_lexer": "ipython3",
   "version": "3.12.2"
  }
 },
 "nbformat": 4,
 "nbformat_minor": 2
}
